{
 "cells": [
  {
   "cell_type": "markdown",
   "metadata": {
    "id": "MH-fBEOxKdLJ"
   },
   "source": [
    "# AFRICAN INSTITUTE FOR MATHEMATICAL SCIENCES\n",
    "## (AIMS RWANDA, KIGALI)\n",
    "\n",
    "---\n",
    "\n",
    "**Name:** Vincent ONDENG  \n",
    "**Course:** BIG DATA ANALYTICS WITH PYTHON\n",
    "---"
   ]
  },
  {
   "cell_type": "markdown",
   "metadata": {
    "id": "RUQFE2tcIqqN"
   },
   "source": [
    "# Introduction\n",
    "The goal of this exercise is to analyze user mobility patterns using a large dataset of call detail records (CDRs) and location data. The analysis involves preprocessing the data, deriving meaningful metrics about user mobility, and exploring relationships between these metrics to gain insights. The last part of the exercise looks at the correlation between average gyration and mean and the average location.\n",
    "## Objectives\n",
    "Some of the operations we are going to perform are:\n",
    "\n",
    "\n",
    "*   Load a sample of the dataset which countains 19700 files\n",
    "*   Sample 1.5 million unique users to explore a few relatiotionship\n",
    "* Generate summary statistics for these users.\n",
    "* Explore the relationship between average unique locations per user and the average radius of gyration\n",
    "* Calculate the correlation between average unique locations and average radius of gyration\n",
    "* Create a plot to visualize the relationship between avergage unique location and the average radius of gyration\n",
    "\n"
   ]
  },
  {
   "cell_type": "markdown",
   "metadata": {
    "id": "3OwSiYuxVJ0Z"
   },
   "source": [
    "## Setting up the Environment\n",
    "\n",
    "The tools used in this exercise include PySpark, which provides distributed data processing capabilities through SparkSession and functions like `col`, `to_date`, and `countDistinct` for efficient transformations and aggregations. Libraries like Pandas and NumPy enable data manipulation and numerical computations, while Seaborn and Matplotlib are used for creating visualizations to explore relationships in the data. Additional utilities like random and Path help with sampling and file management."
   ]
  },
  {
   "cell_type": "code",
   "execution_count": 1,
   "metadata": {
    "id": "fsSn94DrVTT6"
   },
   "outputs": [],
   "source": [
    "from pyspark.sql import SparkSession\n",
    "from pyspark.sql.functions import col, to_date, to_timestamp, rand, countDistinct\n",
    "import pandas as pd\n",
    "import numpy as np\n",
    "import seaborn as sns\n",
    "import matplotlib.pyplot as plt\n",
    "import random\n",
    "from pathlib import Path\n",
    "import sys"
   ]
  },
  {
   "cell_type": "markdown",
   "metadata": {
    "id": "oLBk6Rs9V0MK"
   },
   "source": [
    "## Setting up the Working Directory and Global variables"
   ]
  },
  {
   "cell_type": "code",
   "execution_count": 2,
   "metadata": {
    "id": "GhZwaa79V_1H"
   },
   "outputs": [],
   "source": [
    "# Setup global parameters and variables\n",
    "MISC_PROCESSING_PARAMS = {'distance_threshold': 2, 'min_unique_locs': 2,'datetime_col': 'datetime',\n",
    "                        'userid': 'user_id','x': 'lon', 'y': 'lat'}"
   ]
  },
  {
   "cell_type": "markdown",
   "metadata": {
    "id": "89Dv_RUyIVnR"
   },
   "source": [
    "## TASK 1: PRE-PROCESSING THE DATA USING SPARK\n",
    "The `preprocess_cdrs_using_spark` function performs essential data preprocessing tasks to transform raw Call Detail Records (CDR) into a structured format suitable for analysis. It leverages Spark's distributed computing capabilities to handle large datasets efficiently.\n",
    "\n",
    "Initial operations, such as droping unwanted columns or removing observations with null values such as location or cell id happen here."
   ]
  },
  {
   "cell_type": "code",
   "execution_count": 3,
   "metadata": {
    "id": "M-jGy90MuYQe"
   },
   "outputs": [],
   "source": [
    "def preprocess_cdrs_using_spark(file_or_folder=None, number_of_users_to_sample=None,\n",
    "                                output_csv=None, date_format='yyyyMMddHHmmss',\n",
    "                                debug_mode=True, loc_file=None, save_to_csv=False):\n",
    "    \"\"\"\n",
    "    In this function, we perfom some basic preprocessing such as below:\n",
    "    1. rename columns\n",
    "    2. change some data types\n",
    "    3. Add location details\n",
    "    Eventually, we will sample the data to use for our analysis\n",
    "    :param data_folder:\n",
    "    :param output_csv_for_sample_users:\n",
    "    :return:\n",
    "    \"\"\"\n",
    "\n",
    "    spark = SparkSession.builder \\\n",
    "        .appName(\"CDR Preprocessing\") \\\n",
    "        .master(\"local[2]\") \\\n",
    "        .config(\"spark.executor.memory\", \"4g\") \\\n",
    "        .config(\"spark.driver.memory\", \"6g\") \\\n",
    "        .config(\"spark.sql.shuffle.partitions\", \"16\") \\\n",
    "        .getOrCreate()\n",
    "\n",
    "    # read data with spark\n",
    "    df = spark.read.option(\"header\", True).csv(file_or_folder)\n",
    "\n",
    "    # Renaming the last column to \"cellID\"\n",
    "    df = df.withColumnRenamed(\"last calling cellid\", \"cellId\")\n",
    "\n",
    "    # repartition to speed up\n",
    "    df = df.repartition(16)\n",
    "\n",
    "    # Using spark sample function when debug mode is True\n",
    "    if debug_mode:\n",
    "        df = df.sample(withReplacement=False, fraction=0.5)\n",
    "\n",
    "    # Drop the \"call duration column\"\n",
    "    df = df.drop(\"call duration\")\n",
    "\n",
    "    # Renaming columns\n",
    "    df = df.withColumnRenamed(\"cdr type\", \"cdrType\").withColumnRenamed(\"calling phonenumber\", \"user_id\")\n",
    "    df = df.drop(\"cdrType\")\n",
    "\n",
    "    # Add date and timestamp columns\n",
    "    df = df.withColumn(\"datetime\", to_timestamp(col(\"cdr datetime\"), date_format))\n",
    "    df = df.withColumn(\"date\", to_date(col(\"datetime\")))\n",
    "\n",
    "    # use spark filter() function to remove null phoneNumbers i.e user_id\n",
    "    df = df.filter(col(\"user_id\").isNotNull())\n",
    "\n",
    "    # Load location details using pandas and then joing with the cdr data\n",
    "    loc_df = pd.read_csv(loc_file)\n",
    "    loc_df.rename(columns={\"cell_id\": \"cellId\"}, inplace=True)\n",
    "    spark_loc_df = spark.createDataFrame(loc_df)\n",
    "    df = df.join(spark_loc_df, on=\"cellId\", how=\"left\")\n",
    "\n",
    "    # Drop rows with null values in critical columns\n",
    "    critical_columns = [\"cellId\", \"lat\", \"lon\", \"site_id\"]\n",
    "    df = df.dropna(subset=critical_columns)\n",
    "\n",
    "    # This section will select a given number of users if specified\n",
    "    if number_of_users_to_sample:\n",
    "        sampled_users_df = (\n",
    "            df.select(\"user_id\")\n",
    "            .distinct()\n",
    "            .orderBy(rand())\n",
    "            .limit(number_of_users_to_sample)\n",
    "        )\n",
    "        df = df.join(sampled_users_df, on=\"user_id\", how=\"inner\")\n",
    "\n",
    "    # Cache the Dataframe and since cache is lazy, show the first 10 observations to trigger cache\n",
    "    df.cache()\n",
    "    df.show(10)\n",
    "\n",
    "    # Clear intermediate data except for the final DataFrame\n",
    "    for table_name in spark.catalog.listTables():\n",
    "        spark.catalog.dropTempView(table_name.name)\n",
    "\n",
    "    for df_var in locals().copy():\n",
    "        if isinstance(locals()[df_var], type(df)) and locals()[df_var] is not df:\n",
    "            locals()[df_var].unpersist(blocking=True)\n",
    "    return df"
   ]
  },
  {
   "cell_type": "markdown",
   "metadata": {
    "id": "IYsKAiw2slb9"
   },
   "source": [
    "The key aspect of this function is the use of `df.show()` immediately after `df.cache()`. When you call `cache()` on a DataFrame in Spark, it stores the DataFrame in memory for faster access during subsequent operations. However, `cache()` is a lazy operation in Spark, meaning it doesn't execute until an action is triggered. Using `df.show()` ensures that the DataFrame is actually cached, as `show()` is an action that forces Spark to evaluate the DataFrame and store it in memory.\n",
    "\n",
    "Although my local machine has 8 CPU cores, it has limited memory, which made it challenging to handle large datasets efficiently. To address this, I opted to use Google Colab, which provides additional resources and ensures smoother execution of the code"
   ]
  },
  {
   "cell_type": "code",
   "execution_count": 4,
   "metadata": {
    "colab": {
     "base_uri": "https://localhost:8080/"
    },
    "id": "WHgI7ddfzaNX",
    "outputId": "73959b1e-9b08-42d4-cea0-1f8764ea0162"
   },
   "outputs": [
    {
     "name": "stdout",
     "output_type": "stream",
     "text": [
      "+-------------------+-------+--------------+-------------------+----------+-------+---------+---------+\n",
      "|            user_id| cellId|  cdr datetime|           datetime|      date|site_id|      lat|      lon|\n",
      "+-------------------+-------+--------------+-------------------+----------+-------+---------+---------+\n",
      "|1000047383694070656|20753.0|20180705201327|2018-07-05 20:13:27|2018-07-05|    S81|-7.410591|28.453148|\n",
      "|1000047383694070656|20753.0|20180705201327|2018-07-05 20:13:27|2018-07-05|    S81|-7.410591|28.453148|\n",
      "|1000047383694070656|20753.0|20180704074833|2018-07-04 07:48:33|2018-07-04|    S81|-7.410591|28.453148|\n",
      "|1000047383694070656|20753.0|20180704074833|2018-07-04 07:48:33|2018-07-04|    S81|-7.410591|28.453148|\n",
      "|1000047383694070656|20751.0|20180708171827|2018-07-08 17:18:27|2018-07-08|    S81|-7.410591|28.453148|\n",
      "|1000047383694070656|20751.0|20180708171827|2018-07-08 17:18:27|2018-07-08|    S81|-7.410591|28.453148|\n",
      "|1000047383694070656|12212.0|20180701212724|2018-07-01 21:27:24|2018-07-01|     S3|  -8.5834|  26.8391|\n",
      "|1000047383694070656|20853.0|20180629150149|2018-06-29 15:01:49|2018-06-29|     S9|-7.311427|28.279376|\n",
      "|1000047383694070656|20753.0|20180709092351|2018-07-09 09:23:51|2018-07-09|    S81|-7.410591|28.453148|\n",
      "|1000047383694070656|20753.0|20180709092351|2018-07-09 09:23:51|2018-07-09|    S81|-7.410591|28.453148|\n",
      "+-------------------+-------+--------------+-------------------+----------+-------+---------+---------+\n",
      "only showing top 10 rows\n",
      "\n"
     ]
    }
   ],
   "source": [
    "# Paths to the Input files\n",
    "loc_file = \"/content/drive/MyDrive/DATASETS/simulated_locs.csv\"\n",
    "cdrs_dir = \"/content/drive/MyDrive/DATASETS/final_data/simulated_cdrs\"\n",
    "\n",
    "# Function parameters\n",
    "num_users = 1_500_000\n",
    "debug = False\n",
    "datetime_fmt = 'yyyyMMddHHmmss'\n",
    "\n",
    "# Actual Calling of the Function\n",
    "df = preprocess_cdrs_using_spark(\n",
    "    file_or_folder=str(cdrs_dir),\n",
    "    number_of_users_to_sample=num_users,\n",
    "    loc_file=str(loc_file),\n",
    "    date_format=datetime_fmt,\n",
    "    debug_mode=debug\n",
    ").cache()"
   ]
  },
  {
   "cell_type": "code",
   "execution_count": 5,
   "metadata": {
    "colab": {
     "base_uri": "https://localhost:8080/"
    },
    "id": "HkiI-lp5NA3e",
    "outputId": "2f1c0d7d-5ab5-4220-f114-f3952fbc94e8"
   },
   "outputs": [
    {
     "name": "stdout",
     "output_type": "stream",
     "text": [
      "Number of rows in the DataFrame(even counts)/calls: 11690224\n"
     ]
    }
   ],
   "source": [
    "print(f\"Number of rows in the DataFrame(even counts)/calls: {df.count()}\")"
   ]
  },
  {
   "cell_type": "markdown",
   "metadata": {
    "id": "2UeowYRNRKzR"
   },
   "source": [
    "## Task 2: Summary Statistics for User Events"
   ]
  },
  {
   "cell_type": "markdown",
   "metadata": {
    "id": "M_gB4czrquNs"
   },
   "source": [
    "The `summary_stats_for_user_events` function is designed to compute various statistics related to the number of calls per user in a Spark DataFrame. It begins by grouping the data by `user_id` and counting the number of calls made by each user.\n",
    "\n",
    "The function calculates key statistical measures in parallel for efficient processing. These measures include the mean, median, standard deviation, minimum, maximum, and quantiles (25th, 50th, and 75th percentiles) of the call counts.\n",
    "\n",
    "The computed statistics are then consolidated into a dictionary(before saving into a csv), with each statistic represented as a key-value pair, making it easy to access and use the results for further analysis."
   ]
  },
  {
   "cell_type": "code",
   "execution_count": 6,
   "metadata": {
    "id": "Bu6_j0BXfXrk"
   },
   "outputs": [],
   "source": [
    "from pyspark.sql import SparkSession\n",
    "from pyspark.sql.functions import col, count, mean, stddev, min as spark_min, max as spark_max, expr\n",
    "\n",
    "if not df.is_cached:\n",
    "    df.cache()\n",
    "\n",
    "def summary_stats_for_user_events(df):\n",
    "    \"\"\"\n",
    "    Compute statistics (mean, median, std, min, max, quantiles) for the number of calls per user in parallel using Spark.\n",
    "\n",
    "    :param df: Spark DataFrame with 'user_id' and 'call_id' columns\n",
    "    :return: A dictionary with calculated statistics\n",
    "    \"\"\"\n",
    "    # Group by user_id and count the number of calls per user\n",
    "    user_call_counts = df.groupBy(\"user_id\").agg(count(\"*\").alias(\"num_calls\"))\n",
    "\n",
    "    # Compute statistics in parallel\n",
    "    stats = user_call_counts.agg(\n",
    "        mean(\"num_calls\").alias(\"mean\"),\n",
    "        expr(\"percentile_approx(num_calls, 0.5)\").alias(\"median\"),\n",
    "        stddev(\"num_calls\").alias(\"std\"),\n",
    "        spark_min(\"num_calls\").alias(\"min\"),\n",
    "        spark_max(\"num_calls\").alias(\"max\"),\n",
    "        expr(\"percentile_approx(num_calls, array(0.25, 0.5, 0.75))\").alias(\"quantiles\"),\n",
    "        count(\"*\").alias(\"num_users\")\n",
    "    ).collect()[0]\n",
    "\n",
    "    # Extract quantiles\n",
    "    quantiles = stats[\"quantiles\"]\n",
    "\n",
    "    # Return results as a dictionary\n",
    "    return {\n",
    "        \"mean\": stats[\"mean\"],\n",
    "        \"median\": stats[\"median\"],\n",
    "        \"std\": stats[\"std\"],\n",
    "        \"min\": stats[\"min\"],\n",
    "        \"max\": stats[\"max\"],\n",
    "        \"Q1 (25%)\": quantiles[0],\n",
    "        \"Median (50%)\": quantiles[1],\n",
    "        \"Q3 (75%)\": quantiles[2],\n",
    "        \"num_users\": stats[\"num_users\"]  # Include the user count\n",
    "    }"
   ]
  },
  {
   "cell_type": "code",
   "execution_count": 7,
   "metadata": {
    "colab": {
     "base_uri": "https://localhost:8080/"
    },
    "id": "hTnKqTn4ohrT",
    "outputId": "3fbe1102-a5a4-40da-d0c5-c17e7b996bfe"
   },
   "outputs": [
    {
     "name": "stdout",
     "output_type": "stream",
     "text": [
      "mean: 7.793482666666667\n",
      "median: 3\n",
      "std: 15.807889375792001\n",
      "min: 1\n",
      "max: 8277\n",
      "Q1 (25%): 1\n",
      "Median (50%): 3\n",
      "Q3 (75%): 8\n",
      "num_users: 1500000\n"
     ]
    }
   ],
   "source": [
    "results = summary_stats_for_user_events(df)\n",
    "\n",
    "results_df = pd.DataFrame(list(results.items()), columns=['Statistic', 'Value'])\n",
    "results_df.to_csv('Summary_statistics.csv', index=False)\n",
    "\n",
    "# Show the results\n",
    "for stat, value in results.items():\n",
    "    print(f\"{stat}: {value}\")"
   ]
  },
  {
   "cell_type": "markdown",
   "metadata": {
    "id": "nLKiIqTLpqQm"
   },
   "source": [
    "#### `Number of Days`\n",
    "The `compute_date_range function` identifies the earliest and latest dates in a Spark DataFrame. It computes these dates by applying aggregation functions to determine the minimum and maximum values in the date column. Once the range is established, the function calculates the number of days between the two dates by subtracting the earliest date from the latest date."
   ]
  },
  {
   "cell_type": "code",
   "execution_count": 8,
   "metadata": {
    "id": "QSksrOBZotkE"
   },
   "outputs": [],
   "source": [
    "def compute_date_range(df):\n",
    "  \"\"\"\n",
    "  Computes the number of days\n",
    "  First finds the earliest date\n",
    "  Second find the latest date\n",
    "  Calculate the difference\n",
    "  \"\"\"\n",
    "  if not df.is_cached:\n",
    "    df.cache()\n",
    "\n",
    "  # Take the column date\n",
    "  df = df.withColumn(\"date\", df[\"date\"].cast(\"date\"))\n",
    "\n",
    "  start_date_rdd = df.select(spark_min(\"date\")).rdd\n",
    "  end_date_rdd = df.select(spark_max(\"date\")).rdd\n",
    "\n",
    "  start_date = start_date_rdd.collect()[0][0]\n",
    "  end_date = end_date_rdd.collect()[0][0]\n",
    "\n",
    "  # Computes the difference\n",
    "  total_days = (end_date - start_date).days\n",
    "\n",
    "  return start_date, end_date, total_days"
   ]
  },
  {
   "cell_type": "code",
   "execution_count": 9,
   "metadata": {
    "colab": {
     "base_uri": "https://localhost:8080/"
    },
    "id": "6MoO4NRbota3",
    "outputId": "07716e6f-591d-4114-9d09-99084b05c2bc"
   },
   "outputs": [
    {
     "name": "stdout",
     "output_type": "stream",
     "text": [
      "Start Date: 2018-06-29\n",
      "End Date: 2018-07-13\n",
      "Total Days in Range: 14\n"
     ]
    }
   ],
   "source": [
    "start_date, end_date, total_days = compute_date_range(df)\n",
    "\n",
    "print(f\"Start Date: {start_date}\")\n",
    "print(f\"End Date: {end_date}\")\n",
    "print(f\"Total Days in Range: {total_days}\")"
   ]
  },
  {
   "cell_type": "markdown",
   "metadata": {
    "id": "oOR3efOKvGPm"
   },
   "source": [
    "### `Highest Event Date`\n",
    "This function determines the day with the highest number of user events by grouping the data in the Spark DataFrame based on the `date` column. It calculates the total number of events for each date and identifies the day with the maximum event count. This allows for pinpointing the most active day in the dataset."
   ]
  },
  {
   "cell_type": "code",
   "execution_count": 10,
   "metadata": {
    "id": "VYzPcvqJGzv2"
   },
   "outputs": [],
   "source": [
    "def all_days_with_event_counts(df):\n",
    "    \"\"\"\n",
    "    Find the number of events per day and return all the days in order of the event count.\n",
    "\n",
    "    :param df: Spark DataFrame with an 'event_date' column\n",
    "    :return: A list of tuples with each day and the number of events for that day, sorted by event count\n",
    "    \"\"\"\n",
    "\n",
    "    # Group by event_date and count the number of events per day\n",
    "    events_per_day = df.groupBy(\"date\").agg(count(\"*\").alias(\"num_events\"))\n",
    "\n",
    "    # Convert the result to a Pandas DataFrame\n",
    "    pandas_df = events_per_day.toPandas()\n",
    "\n",
    "    # Create the bar plot\n",
    "    plt.figure(figsize=(10, 6))\n",
    "    plt.bar(pandas_df['date'].astype(str), pandas_df['num_events'], color='skyblue')\n",
    "    plt.xticks(rotation=45, ha='right')\n",
    "    plt.xlabel('Event Date')\n",
    "    plt.ylabel('Number of Events')\n",
    "    plt.title('Events Per Day')\n",
    "\n",
    "    # Show the plot\n",
    "    plt.tight_layout()\n",
    "    plt.show()\n",
    "\n",
    "    return pandas_df"
   ]
  },
  {
   "cell_type": "code",
   "execution_count": 11,
   "metadata": {
    "colab": {
     "base_uri": "https://localhost:8080/",
     "height": 831
    },
    "id": "cE6tmLn9IXvx",
    "outputId": "49dfa220-9ab5-406d-e96c-ced800738808"
   },
   "outputs": [
    {
     "data": {
      "image/png": "[encoded data removed]",
      "text/plain": [
       "<Figure size 1000x600 with 1 Axes>"
      ]
     },
     "metadata": {},
     "output_type": "display_data"
    },
    {
     "name": "stdout",
     "output_type": "stream",
     "text": [
      "          date  num_events\n",
      "0   2018-07-11      840069\n",
      "1   2018-07-10      879483\n",
      "2   2018-07-12      795112\n",
      "3   2018-07-04      798557\n",
      "4   2018-07-02      890146\n",
      "5   2018-07-13      250672\n",
      "6   2018-07-09      873487\n",
      "7   2018-07-05      853602\n",
      "8   2018-06-29      548479\n",
      "9   2018-06-30      753423\n",
      "10  2018-07-07      783265\n",
      "11  2018-07-08      872008\n",
      "12  2018-07-03      894514\n",
      "13  2018-07-06      833722\n",
      "14  2018-07-01      823685\n"
     ]
    }
   ],
   "source": [
    "all_days_df = all_days_with_event_counts(df)\n",
    "\n",
    "print(all_days_df)"
   ]
  },
  {
   "cell_type": "markdown",
   "metadata": {
    "id": "CfyS9c6FqX1I"
   },
   "source": [
    "### `Events in Weekdays vs Weekends`\n",
    "The next summary statistics is the number of events that occured during the week vs the weekend. This is achienved using spark sqls `day of week` function."
   ]
  },
  {
   "cell_type": "code",
   "execution_count": 12,
   "metadata": {
    "colab": {
     "base_uri": "https://localhost:8080/",
     "height": 616
    },
    "id": "YWs_KG8hJyWk",
    "outputId": "ae24d0cd-412d-41c3-ec9b-06e0bca41e93"
   },
   "outputs": [
    {
     "name": "stdout",
     "output_type": "stream",
     "text": [
      "  day_type  num_events\n",
      "0  Weekday     8520663\n",
      "1  Weekend     3169561\n"
     ]
    },
    {
     "data": {
      "image/png": "[encoded data removed]",
      "text/plain": [
       "<Figure size 800x600 with 1 Axes>"
      ]
     },
     "metadata": {},
     "output_type": "display_data"
    }
   ],
   "source": [
    "from pyspark.sql import SparkSession\n",
    "from pyspark.sql.functions import col, dayofweek, when, count\n",
    "\n",
    "def events_weekdays_vs_weekends(df):\n",
    "    \"\"\"\n",
    "    Compare the number of events on weekdays versus weekends using SparkSQL.\n",
    "\n",
    "    :param df: Spark DataFrame with an 'event_date' column\n",
    "    :return: A Pandas DataFrame with events count for weekdays and weekends\n",
    "    \"\"\"\n",
    "\n",
    "    # Add a new column for the day of the week (1 = Monday, 7 = Sunday)\n",
    "    df = df.withColumn(\"day_of_week\", dayofweek(col(\"date\")))\n",
    "\n",
    "    # Classify days as Weekday (1-5) or Weekend (6-7)\n",
    "    df = df.withColumn(\n",
    "        \"day_type\",\n",
    "        when(col(\"day_of_week\").between(1, 5), \"Weekday\").otherwise(\"Weekend\")\n",
    "    )\n",
    "\n",
    "    # Group by day_type (Weekday or Weekend) and count the number of events\n",
    "    events_by_day_type = df.groupBy(\"day_type\").agg(count(\"*\").alias(\"num_events\"))\n",
    "\n",
    "    # Convert the result to a Pandas DataFrame\n",
    "    events_by_day_type_df = events_by_day_type.toPandas()\n",
    "\n",
    "    # Display the results\n",
    "    print(events_by_day_type_df)\n",
    "\n",
    "    import matplotlib.pyplot as plt\n",
    "    plt.figure(figsize=(8, 6))\n",
    "    plt.bar(events_by_day_type_df['day_type'], events_by_day_type_df['num_events'], color='lightgreen')\n",
    "    plt.xlabel('Day Type')\n",
    "    plt.ylabel('Number of Events')\n",
    "    plt.title('Events Comparison: Weekdays vs Weekends')\n",
    "    plt.show()\n",
    "\n",
    "    return events_by_day_type_df\n",
    "\n",
    "events_comparison_df = events_weekdays_vs_weekends(df)"
   ]
  },
  {
   "cell_type": "markdown",
   "metadata": {
    "id": "zlxlJsCSrA3b"
   },
   "source": [
    "### `Events per day of week`\n",
    "This is also another demonstration of how to take advantage of spark sql. Days of the week are mapped with the actual name after using spark sql `day of the week function`."
   ]
  },
  {
   "cell_type": "code",
   "execution_count": 13,
   "metadata": {
    "colab": {
     "base_uri": "https://localhost:8080/"
    },
    "id": "ZkmxXikeKhZ8",
    "outputId": "a9e0e381-28b2-49d9-d46a-118b1554cc44"
   },
   "outputs": [
    {
     "name": "stdout",
     "output_type": "stream",
     "text": [
      "    day_name  num_events\n",
      "5     Monday     1695693\n",
      "3    Tuesday     1763633\n",
      "2  Wednesday     1773997\n",
      "6   Thursday     1638626\n",
      "4     Friday     1648714\n",
      "1   Saturday     1632873\n",
      "0     Sunday     1536688\n"
     ]
    }
   ],
   "source": [
    "import matplotlib.pyplot as plt\n",
    "from pyspark.sql import SparkSession\n",
    "from pyspark.sql.functions import col, dayofweek, count\n",
    "\n",
    "def events_per_day_of_week(df):\n",
    "    \"\"\"\n",
    "    Compare the number of events for each day of the week (Monday through Sunday).\n",
    "\n",
    "    :param df: Spark DataFrame with an 'event_date' column\n",
    "    :return: A Pandas DataFrame with events count for each day of the week\n",
    "    \"\"\"\n",
    "    # Extract the day of the week (1 = Monday, 7 = Sunday)\n",
    "    df = df.withColumn(\"day_of_week\", dayofweek(col(\"date\")))\n",
    "\n",
    "    # Map the day_of_week to actual day names (1 = Monday, 7 = Sunday)\n",
    "    days_of_week_map = {\n",
    "        1: \"Monday\", 2: \"Tuesday\", 3: \"Wednesday\",\n",
    "        4: \"Thursday\", 5: \"Friday\", 6: \"Saturday\", 7: \"Sunday\"\n",
    "    }\n",
    "\n",
    "    df = df.withColumn(\"day_name\", when(col(\"day_of_week\") == 1, \"Monday\")\n",
    "                              .when(col(\"day_of_week\") == 2, \"Tuesday\")\n",
    "                              .when(col(\"day_of_week\") == 3, \"Wednesday\")\n",
    "                              .when(col(\"day_of_week\") == 4, \"Thursday\")\n",
    "                              .when(col(\"day_of_week\") == 5, \"Friday\")\n",
    "                              .when(col(\"day_of_week\") == 6, \"Saturday\")\n",
    "                              .otherwise(\"Sunday\"))\n",
    "\n",
    "    # Group by day_name and count the number of events for each day\n",
    "    events_by_day = df.groupBy(\"day_name\").agg(count(\"*\").alias(\"num_events\"))\n",
    "\n",
    "    events_by_day_df = events_by_day.toPandas()\n",
    "\n",
    "    # Sort the DataFrame to display the days in order (Monday to Sunday)\n",
    "    events_by_day_df[\"day_name\"] = pd.Categorical(events_by_day_df[\"day_name\"],\n",
    "                                                   categories=[\"Monday\", \"Tuesday\", \"Wednesday\",\n",
    "                                                              \"Thursday\", \"Friday\", \"Saturday\", \"Sunday\"],\n",
    "                                                   ordered=True)\n",
    "    events_by_day_df = events_by_day_df.sort_values(\"day_name\")\n",
    "\n",
    "    return events_by_day_df\n",
    "\n",
    "events_per_day = events_per_day_of_week(df)\n",
    "print(events_per_day)"
   ]
  },
  {
   "cell_type": "markdown",
   "metadata": {
    "id": "zARh-TSOh2Bj"
   },
   "source": [
    "## Task 3: Individual User Mobility Statistics\n",
    "`Radius of Gyration`: The radius of gyration is a measure of the \"spread\" or \"dispersion\" of a person's locations around the average location. It quantifies how far, on average, a person’s position deviates from the average location.\n",
    "\n",
    "\n",
    "*   A small radius of gyration indicates that the person tends to stay near the average location, implying less variability in their movement.\n",
    "*   A larger radius of gyration indicates that the person’s locations are more spread out from the average location, suggesting more extensive movement or higher variability.\n",
    "\n",
    "The radius of gyration is implemented using a pandas users defined function which is a lot faster that converting the spark dataframe to pandas before doing the computation.\n",
    "\n",
    "The output of the individual user attributes are then saved as a csv file.\n"
   ]
  },
  {
   "cell_type": "code",
   "execution_count": 14,
   "metadata": {
    "id": "fsAARXZm-i_D"
   },
   "outputs": [],
   "source": [
    "from pyspark.sql.functions import col, countDistinct, collect_list, avg\n",
    "from pyspark.sql.types import DoubleType\n",
    "import numpy as np\n",
    "import pandas as pd\n",
    "\n",
    "def generate_basic_user_attributes_with_spark(dfu, output_csv, misc_params, num_events_threshold=None):\n",
    "    \"\"\"\n",
    "    Generate basic user mobility attributes using Spark and save the results to a CSV file.\n",
    "\n",
    "    :param dfu: Spark DataFrame with user mobility data.\n",
    "    :param output_csv: Path to save the resulting CSV file.\n",
    "    :param misc_params: Dictionary containing column names and parameters.\n",
    "    :param num_events_threshold: Minimum number of events required to process a user.\n",
    "    :return: Spark DataFrame with user mobility attributes.\n",
    "    \"\"\"\n",
    "    if not dfu.is_cached:\n",
    "        dfu.cache()\n",
    "\n",
    "    # Extract column names and parameters from misc_params\n",
    "    user_id_col = misc_params[\"userid\"]\n",
    "    lat_col = misc_params[\"y\"]\n",
    "    lon_col = misc_params[\"x\"]\n",
    "    datetime_col = misc_params[\"datetime_col\"]\n",
    "    min_unique_locs = misc_params[\"min_unique_locs\"]\n",
    "\n",
    "    # Step 1: Calculate unique locations and radius of gyration per day\n",
    "    daily_mobility = (\n",
    "        dfu.groupBy(user_id_col, \"date\")\n",
    "        .agg(\n",
    "            countDistinct(lat_col, lon_col).alias(\"unique_locs\"),\n",
    "            collect_list(lat_col).alias(\"lat_list\"),\n",
    "            collect_list(lon_col).alias(\"lon_list\"),\n",
    "        )\n",
    "    )\n",
    "\n",
    "    # Define UDF for radius of gyration\n",
    "    def calculate_radius_of_gyration(lat_list, lon_list):\n",
    "        if len(lat_list) <= 1:\n",
    "            return 0.0\n",
    "        coords = np.array(list(zip(lat_list, lon_list)))\n",
    "        centroid = coords.mean(axis=0)\n",
    "        distances = np.sqrt(np.sum((coords - centroid) ** 2, axis=1))\n",
    "        return np.sqrt(np.mean(distances ** 2))\n",
    "\n",
    "    from pyspark.sql.functions import pandas_udf\n",
    "    @pandas_udf(DoubleType())\n",
    "    def radius_of_gyration_udf(lat_list, lon_list):\n",
    "        return pd.Series(\n",
    "            [calculate_radius_of_gyration(lat, lon) for lat, lon in zip(lat_list, lon_list)]\n",
    "        )\n",
    "\n",
    "    # Add radius of gyration column\n",
    "    daily_mobility = daily_mobility.withColumn(\n",
    "        \"radius_of_gyration\", radius_of_gyration_udf(col(\"lat_list\"), col(\"lon_list\"))\n",
    "    )\n",
    "\n",
    "    # Aggregate by user to compute overall metrics\n",
    "    user_mobility = (\n",
    "        daily_mobility.groupBy(user_id_col)\n",
    "        .agg(\n",
    "            countDistinct(\"date\").alias(\"active_days\"),\n",
    "            avg(\"unique_locs\").alias(\"avg_unique_locs_per_day\"),\n",
    "            avg(\"radius_of_gyration\").alias(\"avg_radius_of_gyration\"),\n",
    "        )\n",
    "    )\n",
    "\n",
    "    # Apply the threshold filter\n",
    "    if num_events_threshold:\n",
    "        user_mobility = user_mobility.filter(col(\"active_days\") >= num_events_threshold)\n",
    "\n",
    "    # Save the Output to CSV\n",
    "    user_mobility.write.csv(output_csv, header=True, mode=\"overwrite\")\n",
    "    print(f\"User mobility attributes saved to: {output_csv}\")\n",
    "\n",
    "    return user_mobility"
   ]
  },
  {
   "cell_type": "code",
   "execution_count": 15,
   "metadata": {
    "colab": {
     "base_uri": "https://localhost:8080/"
    },
    "id": "JDgfu_pv-zIE",
    "outputId": "9c5a85ed-2156-41b1-c42e-817c345bb9cd"
   },
   "outputs": [
    {
     "name": "stdout",
     "output_type": "stream",
     "text": [
      "User mobility attributes saved to: user_mobility_attributes.csv\n"
     ]
    }
   ],
   "source": [
    "output_csv = \"user_mobility_attributes.csv\"\n",
    "user_mobility_df = generate_basic_user_attributes_with_spark(\n",
    "    df, output_csv, MISC_PROCESSING_PARAMS, num_events_threshold=2\n",
    ")"
   ]
  },
  {
   "cell_type": "markdown",
   "metadata": {
    "id": "m8ra_rAvin7g"
   },
   "source": [
    "### Mean Radius of Gyration vs Average Locations per day"
   ]
  },
  {
   "cell_type": "markdown",
   "metadata": {
    "id": "0aA3GQn7grZl"
   },
   "source": [
    "This function utilizes the `corr` function in sparksql to calculate the correlation between average radius of gyration per day and the average number of locations per user.\n",
    "From the resulting plot, it is clear that the two metrices are corelated. Most of the population at study have an average of less than 10 unique locations with an average radius of gyration of between 0.0 and 0.2. From this dataset it is clear that call detail records can be used for mobility analysis."
   ]
  },
  {
   "cell_type": "code",
   "execution_count": 16,
   "metadata": {
    "id": "lLcSGCPXDv5z"
   },
   "outputs": [],
   "source": [
    "from pyspark.sql.functions import corr\n",
    "import matplotlib.pyplot as plt\n",
    "import seaborn as sns\n",
    "\n",
    "def explore_correlation_between_metrics(user_mobility_df, output_plot=\"correlation_plot.png\"):\n",
    "    \"\"\"\n",
    "    Explore the correlation between avg_Rg and avg_locs_per_day.\n",
    "\n",
    "    :param user_mobility_df: Spark DataFrame containing 'avg_radius_of_gyration' and 'avg_unique_locs_per_day'.\n",
    "    :param output_plot: Path to save the correlation plot.\n",
    "    :return: Correlation coefficient.\n",
    "    \"\"\"\n",
    "    if not user_mobility_df.is_cached:\n",
    "        user_mobility_df.cache()\n",
    "\n",
    "    # Calculate correlation using Spark\n",
    "    correlation = user_mobility_df.select(\n",
    "        corr(\"avg_radius_of_gyration\", \"avg_unique_locs_per_day\").alias(\"correlation\")\n",
    "    ).collect()[0][\"correlation\"]\n",
    "\n",
    "    print(f\"Correlation coefficient between avg_Rg and avg_locs_per_day: {correlation:.4f}\")\n",
    "\n",
    "    # Convert Spark DataFrame to Pandas for visualization\n",
    "    pdf = user_mobility_df.select(\"avg_radius_of_gyration\", \"avg_unique_locs_per_day\").toPandas()\n",
    "\n",
    "    plt.figure(figsize=(8, 6))\n",
    "    sns.scatterplot(data=pdf, x=\"avg_radius_of_gyration\", y=\"avg_unique_locs_per_day\")\n",
    "    sns.regplot(\n",
    "        data=pdf,\n",
    "        x=\"avg_radius_of_gyration\",\n",
    "        y=\"avg_unique_locs_per_day\",\n",
    "        scatter=False,\n",
    "        color=\"red\",\n",
    "    )\n",
    "    plt.title(\"Correlation Between Avg Radius of Gyration and Avg Locations Per Day\")\n",
    "    plt.xlabel(\"Average Radius of Gyration (avg_Rg)\")\n",
    "    plt.ylabel(\"Average Locations Per Day (avg_locs_per_day)\")\n",
    "    plt.grid()\n",
    "    plt.savefig(output_plot)\n",
    "    plt.show()\n",
    "\n",
    "    print(f\"Correlation plot saved to: {output_plot}\")\n",
    "\n",
    "    return correlation\n"
   ]
  },
  {
   "cell_type": "code",
   "execution_count": 17,
   "metadata": {
    "colab": {
     "base_uri": "https://localhost:8080/",
     "height": 599
    },
    "id": "ac423ys1D3wH",
    "outputId": "651bcd6a-23b7-4693-a00b-57104b53804e"
   },
   "outputs": [
    {
     "name": "stdout",
     "output_type": "stream",
     "text": [
      "Correlation coefficient between avg_Rg and avg_locs_per_day: 0.3235\n"
     ]
    },
    {
     "data": {
      "image/png": "[encoded data removed]",
      "text/plain": [
       "<Figure size 800x600 with 1 Axes>"
      ]
     },
     "metadata": {},
     "output_type": "display_data"
    },
    {
     "name": "stdout",
     "output_type": "stream",
     "text": [
      "Correlation plot saved to: correlation_plot.png\n"
     ]
    }
   ],
   "source": [
    "# Assuming `user_mobility_df` contains the required columns\n",
    "correlation = explore_correlation_between_metrics(user_mobility_df, output_plot=\"correlation_plot.png\")"
   ]
  },
  {
   "cell_type": "markdown",
   "metadata": {
    "id": "zqQ9uKUIXHhB"
   },
   "source": [
    "## Task 4: Challenges and Strategies\n",
    "**Challenges**\n",
    "\n",
    "\n",
    "*   Size of the dataset: The size of the dataset required efficient processing techniques and memory management.\n",
    "*   Location metrix: Calculating radius of gyration (Rg) and average unique locations per day required specific logic logic.\n",
    "\n",
    "**Strategies**\n",
    "\n",
    "Strategies such as repartitioning the data ensured balanced load distribution across partitions, while persisting intermediate results (`persist()` and `cache()`) avoided redundant computations during repeated access. During debugging, sampling smaller subsets of the data helped speed up testing without compromising scalability for full-scale processing. Additionally, optimizing complex metric calculations, such as the radius of gyration, involved leveraging built-in Spark SQL functions and efficient vectorized operations through Pandas UDFs. Grouping data early in the workflow reduced redundant processing, and unnecessary data format conversions (e.g., from Spark to Pandas) to maintain efficiency for the large dataset. These combined strategies ensured that both large-scale data handling and computationally intensive tasks were addressed effectively.\n",
    "\n",
    "\n"
   ]
  }
 ],
 "metadata": {
  "colab": {
   "provenance": []
  },
  "kernelspec": {
   "display_name": "Python 3 (ipykernel)",
   "language": "python",
   "name": "python3"
  },
  "language_info": {
   "codemirror_mode": {
    "name": "ipython",
    "version": 3
   },
   "file_extension": ".py",
   "mimetype": "text/x-python",
   "name": "python",
   "nbconvert_exporter": "python",
   "pygments_lexer": "ipython3",
   "version": "3.10.12"
  }
 },
 "nbformat": 4,
 "nbformat_minor": 1
}
